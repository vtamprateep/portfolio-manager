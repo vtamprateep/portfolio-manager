{
 "cells": [
  {
   "cell_type": "code",
   "execution_count": 36,
   "metadata": {},
   "outputs": [
    {
     "data": {
      "text/plain": [
       "True"
      ]
     },
     "execution_count": 36,
     "metadata": {},
     "output_type": "execute_result"
    }
   ],
   "source": [
    "from tda import auth, client\n",
    "from pathlib import Path\n",
    "from dotenv import load_dotenv\n",
    "import pandas as pd\n",
    "import psycopg2\n",
    "import os\n",
    "import json\n",
    "\n",
    "load_dotenv()"
   ]
  },
  {
   "cell_type": "code",
   "execution_count": 32,
   "metadata": {},
   "outputs": [],
   "source": [
    "TD_KEY = os.getenv('CONSUMER_KEY')\n",
    "ACC_NUMBER = os.getenv('ACC_NUMBER')\n",
    "REDIRECT_URI = os.getenv('REDIRECT_URI')\n",
    "FOLDER_PATH = os.path.abspath(os.path.join(os.getcwd(), os.pardir))\n",
    "TOKEN_PATH = os.path.join(FOLDER_PATH, 'tokens/token.pickle')\n",
    "API_KEY = TD_KEY + '@AMER.OAUTHAP'\n",
    "\n",
    "def connect_client(api_key, redirect_uri, token_path, webdriver_func):\n",
    "    client = auth.easy_client(\n",
    "        api_key = api_key,\n",
    "        redirect_uri = REDIRECT_URI,\n",
    "        token_path = TOKEN_PATH,\n",
    "        webdriver_func = webdriver_func,\n",
    "    )\n",
    "    return client\n",
    "\n",
    "def get_webdriver(path = None):\n",
    "    if not path:\n",
    "        path = os.path.abspath(os.path.join(os.getcwd(), os.pardir))\n",
    "        path = os.path.join(path, 'chromedriver')\n",
    "    return webdriver.Chrome(path)"
   ]
  },
  {
   "cell_type": "code",
   "execution_count": 34,
   "metadata": {},
   "outputs": [],
   "source": [
    "# Load connection to db\n",
    "conn = psycopg2.connect('dbname=securities user=postgres')\n",
    "cur = conn.cursor()\n",
    "\n",
    "# Extract list of all security names\n",
    "cur.execute('SELECT symbol FROM holdings')\n",
    "all_securities = [x[0] for x in cur.fetchall()]\n",
    "\n",
    "# Start TDA Client\n",
    "CLIENT = connect_client(API_KEY, REDIRECT_URI, TOKEN_PATH, get_webdriver)"
   ]
  },
  {
   "cell_type": "code",
   "execution_count": 56,
   "metadata": {},
   "outputs": [],
   "source": [
    "# Get all securities in population list\n",
    "response = CLIENT.get_quotes(','.join(all_securities)).json()\n",
    "response_keys = response.keys()"
   ]
  },
  {
   "cell_type": "code",
   "execution_count": 57,
   "metadata": {},
   "outputs": [
    {
     "data": {
      "text/plain": [
       "197"
      ]
     },
     "execution_count": 57,
     "metadata": {},
     "output_type": "execute_result"
    }
   ],
   "source": [
    "len(response)"
   ]
  },
  {
   "cell_type": "code",
   "execution_count": 58,
   "metadata": {},
   "outputs": [],
   "source": [
    "# Build list of values that I want to insert into my database\n",
    "\n",
    "df_list = list()\n",
    "\n",
    "for key in response_keys:\n",
    "    temp_list = [\n",
    "        key,\n",
    "        response[key]['description'],\n",
    "        response[key]['assetType'],\n",
    "        response[key]['assetMainType'],\n",
    "    ]\n",
    "    df_list.append(temp_list)\n",
    "    \n",
    "df_securities = pd.DataFrame(df_list, columns = ['symbol', 'description', 'asset_type', 'main_type'])"
   ]
  },
  {
   "cell_type": "code",
   "execution_count": 59,
   "metadata": {},
   "outputs": [
    {
     "data": {
      "text/html": [
       "<div>\n",
       "<style scoped>\n",
       "    .dataframe tbody tr th:only-of-type {\n",
       "        vertical-align: middle;\n",
       "    }\n",
       "\n",
       "    .dataframe tbody tr th {\n",
       "        vertical-align: top;\n",
       "    }\n",
       "\n",
       "    .dataframe thead th {\n",
       "        text-align: right;\n",
       "    }\n",
       "</style>\n",
       "<table border=\"1\" class=\"dataframe\">\n",
       "  <thead>\n",
       "    <tr style=\"text-align: right;\">\n",
       "      <th></th>\n",
       "      <th>symbol</th>\n",
       "      <th>description</th>\n",
       "      <th>asset_type</th>\n",
       "      <th>main_type</th>\n",
       "    </tr>\n",
       "  </thead>\n",
       "  <tbody>\n",
       "    <tr>\n",
       "      <th>0</th>\n",
       "      <td>ISHG</td>\n",
       "      <td>iShares 1-3 Year International Treasury Bond ETF</td>\n",
       "      <td>ETF</td>\n",
       "      <td>EQUITY</td>\n",
       "    </tr>\n",
       "    <tr>\n",
       "      <th>1</th>\n",
       "      <td>TLT</td>\n",
       "      <td>iShares 20+ Year Treasury Bond ETF</td>\n",
       "      <td>ETF</td>\n",
       "      <td>EQUITY</td>\n",
       "    </tr>\n",
       "    <tr>\n",
       "      <th>2</th>\n",
       "      <td>IEI</td>\n",
       "      <td>iShares 3-7 Year Treasury Bond ETF</td>\n",
       "      <td>ETF</td>\n",
       "      <td>EQUITY</td>\n",
       "    </tr>\n",
       "    <tr>\n",
       "      <th>3</th>\n",
       "      <td>IEF</td>\n",
       "      <td>iShares 7-10 Year Treasury Bond ETF</td>\n",
       "      <td>ETF</td>\n",
       "      <td>EQUITY</td>\n",
       "    </tr>\n",
       "    <tr>\n",
       "      <th>4</th>\n",
       "      <td>USHY</td>\n",
       "      <td>iShares Broad USD High Yield Corporate Bond ETF</td>\n",
       "      <td>ETF</td>\n",
       "      <td>EQUITY</td>\n",
       "    </tr>\n",
       "    <tr>\n",
       "      <th>...</th>\n",
       "      <td>...</td>\n",
       "      <td>...</td>\n",
       "      <td>...</td>\n",
       "      <td>...</td>\n",
       "    </tr>\n",
       "    <tr>\n",
       "      <th>192</th>\n",
       "      <td>IVOG</td>\n",
       "      <td>Vanguard S&amp;P Mid-Cap 400 Growth ETF</td>\n",
       "      <td>ETF</td>\n",
       "      <td>EQUITY</td>\n",
       "    </tr>\n",
       "    <tr>\n",
       "      <th>193</th>\n",
       "      <td>BSV</td>\n",
       "      <td>Vanguard Short-Term Bond ETF</td>\n",
       "      <td>ETF</td>\n",
       "      <td>EQUITY</td>\n",
       "    </tr>\n",
       "    <tr>\n",
       "      <th>194</th>\n",
       "      <td>VGSH</td>\n",
       "      <td>Vanguard Short-Term Treasury ETF</td>\n",
       "      <td>ETF</td>\n",
       "      <td>EQUITY</td>\n",
       "    </tr>\n",
       "    <tr>\n",
       "      <th>195</th>\n",
       "      <td>VTIP</td>\n",
       "      <td>Vanguard Short-Term Inflation-Protected Securi...</td>\n",
       "      <td>ETF</td>\n",
       "      <td>EQUITY</td>\n",
       "    </tr>\n",
       "    <tr>\n",
       "      <th>196</th>\n",
       "      <td>VB</td>\n",
       "      <td>Vanguard Small-Cap ETF</td>\n",
       "      <td>ETF</td>\n",
       "      <td>EQUITY</td>\n",
       "    </tr>\n",
       "  </tbody>\n",
       "</table>\n",
       "<p>197 rows × 4 columns</p>\n",
       "</div>"
      ],
      "text/plain": [
       "    symbol                                        description asset_type  \\\n",
       "0     ISHG   iShares 1-3 Year International Treasury Bond ETF        ETF   \n",
       "1      TLT                 iShares 20+ Year Treasury Bond ETF        ETF   \n",
       "2      IEI                 iShares 3-7 Year Treasury Bond ETF        ETF   \n",
       "3      IEF                iShares 7-10 Year Treasury Bond ETF        ETF   \n",
       "4     USHY    iShares Broad USD High Yield Corporate Bond ETF        ETF   \n",
       "..     ...                                                ...        ...   \n",
       "192   IVOG                Vanguard S&P Mid-Cap 400 Growth ETF        ETF   \n",
       "193    BSV                       Vanguard Short-Term Bond ETF        ETF   \n",
       "194   VGSH                   Vanguard Short-Term Treasury ETF        ETF   \n",
       "195   VTIP  Vanguard Short-Term Inflation-Protected Securi...        ETF   \n",
       "196     VB                             Vanguard Small-Cap ETF        ETF   \n",
       "\n",
       "    main_type  \n",
       "0      EQUITY  \n",
       "1      EQUITY  \n",
       "2      EQUITY  \n",
       "3      EQUITY  \n",
       "4      EQUITY  \n",
       "..        ...  \n",
       "192    EQUITY  \n",
       "193    EQUITY  \n",
       "194    EQUITY  \n",
       "195    EQUITY  \n",
       "196    EQUITY  \n",
       "\n",
       "[197 rows x 4 columns]"
      ]
     },
     "execution_count": 59,
     "metadata": {},
     "output_type": "execute_result"
    }
   ],
   "source": [
    "df_securities"
   ]
  },
  {
   "cell_type": "code",
   "execution_count": 61,
   "metadata": {},
   "outputs": [],
   "source": [
    "df_securities.to_csv('./pop_securities.csv')"
   ]
  },
  {
   "cell_type": "code",
   "execution_count": 63,
   "metadata": {},
   "outputs": [],
   "source": [
    "# Alternative - query straight from existing DB\n",
    "cur.execute('SELECT * FROM holdings;')\n",
    "query_result = cur.fetchall()"
   ]
  },
  {
   "cell_type": "code",
   "execution_count": 64,
   "metadata": {},
   "outputs": [
    {
     "data": {
      "text/plain": [
       "('ISHG',\n",
       " 'iShares 1-3 Year International Treasury Bond ETF',\n",
       " 'ETF',\n",
       " 'EQUITY',\n",
       " 0,\n",
       " 0.0)"
      ]
     },
     "execution_count": 64,
     "metadata": {},
     "output_type": "execute_result"
    }
   ],
   "source": [
    "query_result[0]"
   ]
  },
  {
   "cell_type": "code",
   "execution_count": 66,
   "metadata": {},
   "outputs": [],
   "source": [
    "df_population = pd.DataFrame(query_result, columns = ['symbol', 'description', 'asset_type', 'main_type', 'quantity', 'target'])"
   ]
  },
  {
   "cell_type": "code",
   "execution_count": 67,
   "metadata": {},
   "outputs": [
    {
     "data": {
      "text/html": [
       "<div>\n",
       "<style scoped>\n",
       "    .dataframe tbody tr th:only-of-type {\n",
       "        vertical-align: middle;\n",
       "    }\n",
       "\n",
       "    .dataframe tbody tr th {\n",
       "        vertical-align: top;\n",
       "    }\n",
       "\n",
       "    .dataframe thead th {\n",
       "        text-align: right;\n",
       "    }\n",
       "</style>\n",
       "<table border=\"1\" class=\"dataframe\">\n",
       "  <thead>\n",
       "    <tr style=\"text-align: right;\">\n",
       "      <th></th>\n",
       "      <th>symbol</th>\n",
       "      <th>description</th>\n",
       "      <th>asset_type</th>\n",
       "      <th>main_type</th>\n",
       "      <th>quantity</th>\n",
       "      <th>target</th>\n",
       "    </tr>\n",
       "  </thead>\n",
       "  <tbody>\n",
       "    <tr>\n",
       "      <th>0</th>\n",
       "      <td>ISHG</td>\n",
       "      <td>iShares 1-3 Year International Treasury Bond ETF</td>\n",
       "      <td>ETF</td>\n",
       "      <td>EQUITY</td>\n",
       "      <td>0</td>\n",
       "      <td>0.0</td>\n",
       "    </tr>\n",
       "    <tr>\n",
       "      <th>1</th>\n",
       "      <td>TLT</td>\n",
       "      <td>iShares 20+ Year Treasury Bond ETF</td>\n",
       "      <td>ETF</td>\n",
       "      <td>EQUITY</td>\n",
       "      <td>0</td>\n",
       "      <td>0.0</td>\n",
       "    </tr>\n",
       "    <tr>\n",
       "      <th>2</th>\n",
       "      <td>IEI</td>\n",
       "      <td>iShares 3-7 Year Treasury Bond ETF</td>\n",
       "      <td>ETF</td>\n",
       "      <td>EQUITY</td>\n",
       "      <td>0</td>\n",
       "      <td>0.0</td>\n",
       "    </tr>\n",
       "    <tr>\n",
       "      <th>3</th>\n",
       "      <td>IEF</td>\n",
       "      <td>iShares 7-10 Year Treasury Bond ETF</td>\n",
       "      <td>ETF</td>\n",
       "      <td>EQUITY</td>\n",
       "      <td>0</td>\n",
       "      <td>0.0</td>\n",
       "    </tr>\n",
       "    <tr>\n",
       "      <th>4</th>\n",
       "      <td>USHY</td>\n",
       "      <td>iShares Broad USD High Yield Corporate Bond ETF</td>\n",
       "      <td>ETF</td>\n",
       "      <td>EQUITY</td>\n",
       "      <td>0</td>\n",
       "      <td>0.0</td>\n",
       "    </tr>\n",
       "  </tbody>\n",
       "</table>\n",
       "</div>"
      ],
      "text/plain": [
       "  symbol                                       description asset_type  \\\n",
       "0   ISHG  iShares 1-3 Year International Treasury Bond ETF        ETF   \n",
       "1    TLT                iShares 20+ Year Treasury Bond ETF        ETF   \n",
       "2    IEI                iShares 3-7 Year Treasury Bond ETF        ETF   \n",
       "3    IEF               iShares 7-10 Year Treasury Bond ETF        ETF   \n",
       "4   USHY   iShares Broad USD High Yield Corporate Bond ETF        ETF   \n",
       "\n",
       "  main_type  quantity  target  \n",
       "0    EQUITY         0     0.0  \n",
       "1    EQUITY         0     0.0  \n",
       "2    EQUITY         0     0.0  \n",
       "3    EQUITY         0     0.0  \n",
       "4    EQUITY         0     0.0  "
      ]
     },
     "execution_count": 67,
     "metadata": {},
     "output_type": "execute_result"
    }
   ],
   "source": [
    "df_population.head()"
   ]
  },
  {
   "cell_type": "code",
   "execution_count": 70,
   "metadata": {},
   "outputs": [],
   "source": [
    "df_population.to_csv('./pop_securities.csv', index = False)"
   ]
  },
  {
   "cell_type": "code",
   "execution_count": null,
   "metadata": {},
   "outputs": [],
   "source": []
  }
 ],
 "metadata": {
  "kernelspec": {
   "display_name": "Python 3",
   "language": "python",
   "name": "python3"
  },
  "language_info": {
   "codemirror_mode": {
    "name": "ipython",
    "version": 3
   },
   "file_extension": ".py",
   "mimetype": "text/x-python",
   "name": "python",
   "nbconvert_exporter": "python",
   "pygments_lexer": "ipython3",
   "version": "3.7.6"
  }
 },
 "nbformat": 4,
 "nbformat_minor": 4
}
